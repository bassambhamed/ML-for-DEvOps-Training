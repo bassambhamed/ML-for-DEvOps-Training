{
 "cells": [
  {
   "cell_type": "code",
   "execution_count": 1,
   "metadata": {
    "collapsed": false,
    "ExecuteTime": {
     "end_time": "2024-06-09T11:27:11.469565Z",
     "start_time": "2024-06-09T11:27:10.762810Z"
    }
   },
   "outputs": [],
   "source": [
    "from  DataCleaning import  cleanData\n",
    "X,y,features,target=cleanData('Regression')"
   ],
   "id": "301bd5c647c0f904"
  },
  {
   "cell_type": "markdown",
   "metadata": {
    "collapsed": false
   },
   "source": [
    "**Train test split**"
   ],
   "id": "940d2e5d3fc63dee"
  },
  {
   "cell_type": "code",
   "execution_count": 2,
   "metadata": {
    "collapsed": false,
    "ExecuteTime": {
     "end_time": "2024-06-09T11:27:13.575278Z",
     "start_time": "2024-06-09T11:27:13.461641Z"
    }
   },
   "outputs": [],
   "source": [
    "from sklearn.model_selection import train_test_split"
   ],
   "id": "bcc8abd2368af1e9"
  },
  {
   "cell_type": "code",
   "execution_count": 3,
   "metadata": {
    "collapsed": false,
    "ExecuteTime": {
     "end_time": "2024-06-09T11:27:14.852315Z",
     "start_time": "2024-06-09T11:27:14.845480Z"
    }
   },
   "outputs": [],
   "source": [
    "X_train,X_test,y_train,y_test = train_test_split(X,y,test_size=0.2,\\\n",
    "                                                random_state=0)"
   ],
   "id": "4026514855d7e252"
  },
  {
   "cell_type": "code",
   "execution_count": 4,
   "id": "f865fec2",
   "metadata": {
    "ExecuteTime": {
     "end_time": "2024-06-09T11:27:16.048654Z",
     "start_time": "2024-06-09T11:27:16.041162Z"
    }
   },
   "outputs": [],
   "source": [
    "def splitDataset(x,y):\n",
    "    X_train,X_test,y_train,y_test = train_test_split(x,y,test_size=0.2,random_state=0)\n",
    "    return X_train,X_test,y_train,y_test"
   ]
  },
  {
   "cell_type": "code",
   "execution_count": 5,
   "metadata": {
    "collapsed": false,
    "ExecuteTime": {
     "end_time": "2024-06-09T11:27:17.952628Z",
     "start_time": "2024-06-09T11:27:17.923641Z"
    }
   },
   "outputs": [],
   "source": [
    "from sklearn.preprocessing import StandardScaler\n",
    "def standarScalerData(data):\n",
    "    scaler= StandardScaler()\n",
    "    scaleData = scaler.fit_transform(data)\n",
    "    return scaleData"
   ],
   "id": "1a3ec359769d2cb1"
  },
  {
   "cell_type": "markdown",
   "id": "aa729f4f",
   "metadata": {},
   "source": [
    "### Feature Selection"
   ]
  },
  {
   "cell_type": "markdown",
   "id": "99701c20",
   "metadata": {},
   "source": [
    "<b>Feature Selection</b>\n",
    "\n",
    "Feature selection is a process where you automatically select those features in your data that contribute most to the prediction variable or output in which you are interested.\n",
    "\n",
    "Having irrelevant features in your data can decrease the accuracy of many models, especially linear algorithms like linear and logistic regression.\n",
    "\n",
    "Three benefits of performing feature selection before modeling your data are:\n",
    "\n",
    "- <b>Reduces Overfitting:</b> Less redundant data means less opportunity to make decisions based on noise.\n",
    "- <b>Improves Accuracy:</b> Less misleading data means modeling accuracy improves.\n",
    "- <b>Reduces Training Time:</b> Less data means that algorithms train faster."
   ]
  },
  {
   "cell_type": "markdown",
   "id": "2103451d",
   "metadata": {},
   "source": [
    "##### RFE"
   ]
  },
  {
   "cell_type": "markdown",
   "id": "a6e888b2",
   "metadata": {},
   "source": [
    "Recursive Feature Elimination is the process of iteratively finding the most relevant features from the parameters of a learnt ML model. The model used for RFE could vary based on the problem at hand and the dataset. Popular models that could be used include Linear Regression, Logistic Regression, Decision Trees, Random Forests and so on.\n"
   ]
  },
  {
   "cell_type": "code",
   "execution_count": 6,
   "id": "38df572b",
   "metadata": {
    "ExecuteTime": {
     "end_time": "2024-06-09T11:27:23.926520Z",
     "start_time": "2024-06-09T11:27:23.864703Z"
    }
   },
   "outputs": [
    {
     "name": "stdout",
     "output_type": "stream",
     "text": [
      "\u001B[1mMost important features selected By RFE:\u001B[0m\n",
      "Throughput\n",
      "Successability\n",
      "Compliance\n",
      "Documentation\n",
      "WsRF\n",
      "Class\n"
     ]
    }
   ],
   "source": [
    "from sklearn.linear_model import LinearRegression\n",
    "from sklearn.feature_selection import RFE\n",
    "\n",
    "\n",
    "# Import some data to play with\n",
    "X_values = X.values\n",
    "y_values = y.values\n",
    "# Create a LinearRegression\n",
    "estimator = LinearRegression()\n",
    "# Use RFE to select the most important features\n",
    "selector = RFE(estimator, n_features_to_select=6, step=2)\n",
    "selector = selector.fit(X_values, y_values)\n",
    "# Print the selected features\n",
    "importantFeatures=[]\n",
    "print(\"\\033[1m\"+'Most important features selected By RFE:'+\"\\033[0m\")\n",
    "for i in range(0,len(selector.support_)):\n",
    "    if selector.support_[i]==True:\n",
    "        print(X[features].columns[i])\n",
    "        importantFeatures.append(X[features].columns[i])\n"
   ]
  },
  {
   "cell_type": "code",
   "execution_count": 7,
   "metadata": {
    "collapsed": false,
    "ExecuteTime": {
     "end_time": "2024-06-09T11:27:27.896606Z",
     "start_time": "2024-06-09T11:27:27.888132Z"
    }
   },
   "outputs": [
    {
     "name": "stdout",
     "output_type": "stream",
     "text": [
      "['Throughput', 'Successability', 'Compliance', 'Documentation', 'WsRF', 'Class']\n"
     ]
    }
   ],
   "source": [
    "print(importantFeatures)"
   ],
   "id": "993c7340cae1736d"
  },
  {
   "cell_type": "code",
   "execution_count": 8,
   "metadata": {
    "collapsed": false,
    "ExecuteTime": {
     "end_time": "2024-06-09T11:27:29.853987Z",
     "start_time": "2024-06-09T11:27:29.830016Z"
    }
   },
   "outputs": [],
   "source": [
    "x_with_feature_selection=X[importantFeatures]"
   ],
   "id": "434c6888b8d98a81"
  },
  {
   "cell_type": "markdown",
   "metadata": {
    "collapsed": false
   },
   "source": [
    "## Linear Regression"
   ],
   "id": "cb6cd9be1acec681"
  },
  {
   "cell_type": "markdown",
   "metadata": {
    "collapsed": false
   },
   "source": [
    "![alt text](images/linear-regression.png \"Linear Regression\")\n"
   ],
   "id": "9521b0ce42a26f7d"
  },
  {
   "cell_type": "markdown",
   "metadata": {
    "collapsed": false
   },
   "source": [
    "###  Get Regression Model Summary from Statsmodels"
   ],
   "id": "42d13e73df87c3c0"
  },
  {
   "cell_type": "code",
   "execution_count": 9,
   "metadata": {
    "collapsed": false,
    "ExecuteTime": {
     "end_time": "2024-06-09T11:30:34.753815Z",
     "start_time": "2024-06-09T11:30:34.565984Z"
    }
   },
   "outputs": [
    {
     "name": "stdout",
     "output_type": "stream",
     "text": [
      "                                 OLS Regression Results                                \n",
      "=======================================================================================\n",
      "Dep. Variable:            Reliability   R-squared (uncentered):                   0.982\n",
      "Model:                            OLS   Adj. R-squared (uncentered):              0.981\n",
      "Method:                 Least Squares   F-statistic:                              1303.\n",
      "Date:                Sun, 09 Jun 2024   Prob (F-statistic):                   7.92e-185\n",
      "Time:                        12:30:34   Log-Likelihood:                         -822.40\n",
      "No. Observations:                 228   AIC:                                      1663.\n",
      "Df Residuals:                     219   BIC:                                      1694.\n",
      "Df Model:                           9                                                  \n",
      "Covariance Type:            nonrobust                                                  \n",
      "==================================================================================\n",
      "                     coef    std err          t      P>|t|      [0.025      0.975]\n",
      "----------------------------------------------------------------------------------\n",
      "Availability      -0.1887      0.080     -2.369      0.019      -0.346      -0.032\n",
      "Throughput        -0.9684      0.152     -6.387      0.000      -1.267      -0.670\n",
      "Successability    -0.6294      0.067     -9.369      0.000      -0.762      -0.497\n",
      "Compliance        -0.3416      0.082     -4.168      0.000      -0.503      -0.180\n",
      "Best_Practices    -0.2781      0.096     -2.894      0.004      -0.468      -0.089\n",
      "Latency            0.0270      0.006      4.487      0.000       0.015       0.039\n",
      "Documentation     -0.4267      0.029    -14.499      0.000      -0.485      -0.369\n",
      "WsRF               2.9568      0.167     17.745      0.000       2.628       3.285\n",
      "Class             -3.0686      1.039     -2.955      0.003      -5.116      -1.022\n",
      "==============================================================================\n",
      "Omnibus:                       19.935   Durbin-Watson:                   2.078\n",
      "Prob(Omnibus):                  0.000   Jarque-Bera (JB):               25.785\n",
      "Skew:                          -0.609   Prob(JB):                     2.52e-06\n",
      "Kurtosis:                       4.110   Cond. No.                         530.\n",
      "==============================================================================\n",
      "\n",
      "Notes:\n",
      "[1] R² is computed without centering (uncentered) since the model does not contain a constant.\n",
      "[2] Standard Errors assume that the covariance matrix of the errors is correctly specified.\n"
     ]
    }
   ],
   "source": [
    "import statsmodels.api as sm\n",
    "#add constant to predictor variables\n",
    "x = sm.add_constant(X_train)\n",
    "#fit linear regression mode\n",
    "model = sm.OLS(y_train, X_train).fit()\n",
    "print_model = model.summary()\n",
    "#View model summary\n",
    "print(print_model)"
   ],
   "id": "f3f9546fd2ba0d17"
  },
  {
   "cell_type": "markdown",
   "metadata": {
    "collapsed": false
   },
   "source": [
    "-Jarque-Bera (JB):Statistic value\n",
    "-Prob(JB)::p-value of Jarque-Bera test\n",
    "Interpretation:\n",
    "If p-value<significant_Value then the residuals are not normally distibuted.\n",
    "If p-value>significant_Value the residuals are normally distibuted"
   ],
   "id": "ed928e30818d001b"
  },
  {
   "cell_type": "markdown",
   "metadata": {
    "collapsed": false
   },
   "source": [
    "#### with feature selection variable"
   ],
   "id": "95d3caceb43f60eb"
  },
  {
   "cell_type": "code",
   "execution_count": 10,
   "metadata": {
    "collapsed": false,
    "ExecuteTime": {
     "end_time": "2024-06-09T11:30:39.314458Z",
     "start_time": "2024-06-09T11:30:39.286706Z"
    }
   },
   "outputs": [
    {
     "data": {
      "text/plain": "     Throughput  Successability  Compliance  Documentation  WsRF  Class\n27         15.0              71        89.0             41    84      1\n68          9.3              57       100.0             92    76      2\n320         8.0              33        89.0              7    55      4\n257         1.7              40        67.0             96    62      3\n202         1.0              49        78.0             93    67      3\n..          ...             ...         ...            ...   ...    ...\n307         0.2              50        78.0             40    56      4\n229        18.9              29        78.0              4    64      3\n142        10.1              51       100.0              3    71      2\n69          5.2              90       100.0             11    76      2\n207         5.8              80        78.0             96    67      3\n\n[228 rows x 6 columns]",
      "text/html": "<div>\n<style scoped>\n    .dataframe tbody tr th:only-of-type {\n        vertical-align: middle;\n    }\n\n    .dataframe tbody tr th {\n        vertical-align: top;\n    }\n\n    .dataframe thead th {\n        text-align: right;\n    }\n</style>\n<table border=\"1\" class=\"dataframe\">\n  <thead>\n    <tr style=\"text-align: right;\">\n      <th></th>\n      <th>Throughput</th>\n      <th>Successability</th>\n      <th>Compliance</th>\n      <th>Documentation</th>\n      <th>WsRF</th>\n      <th>Class</th>\n    </tr>\n  </thead>\n  <tbody>\n    <tr>\n      <th>27</th>\n      <td>15.0</td>\n      <td>71</td>\n      <td>89.0</td>\n      <td>41</td>\n      <td>84</td>\n      <td>1</td>\n    </tr>\n    <tr>\n      <th>68</th>\n      <td>9.3</td>\n      <td>57</td>\n      <td>100.0</td>\n      <td>92</td>\n      <td>76</td>\n      <td>2</td>\n    </tr>\n    <tr>\n      <th>320</th>\n      <td>8.0</td>\n      <td>33</td>\n      <td>89.0</td>\n      <td>7</td>\n      <td>55</td>\n      <td>4</td>\n    </tr>\n    <tr>\n      <th>257</th>\n      <td>1.7</td>\n      <td>40</td>\n      <td>67.0</td>\n      <td>96</td>\n      <td>62</td>\n      <td>3</td>\n    </tr>\n    <tr>\n      <th>202</th>\n      <td>1.0</td>\n      <td>49</td>\n      <td>78.0</td>\n      <td>93</td>\n      <td>67</td>\n      <td>3</td>\n    </tr>\n    <tr>\n      <th>...</th>\n      <td>...</td>\n      <td>...</td>\n      <td>...</td>\n      <td>...</td>\n      <td>...</td>\n      <td>...</td>\n    </tr>\n    <tr>\n      <th>307</th>\n      <td>0.2</td>\n      <td>50</td>\n      <td>78.0</td>\n      <td>40</td>\n      <td>56</td>\n      <td>4</td>\n    </tr>\n    <tr>\n      <th>229</th>\n      <td>18.9</td>\n      <td>29</td>\n      <td>78.0</td>\n      <td>4</td>\n      <td>64</td>\n      <td>3</td>\n    </tr>\n    <tr>\n      <th>142</th>\n      <td>10.1</td>\n      <td>51</td>\n      <td>100.0</td>\n      <td>3</td>\n      <td>71</td>\n      <td>2</td>\n    </tr>\n    <tr>\n      <th>69</th>\n      <td>5.2</td>\n      <td>90</td>\n      <td>100.0</td>\n      <td>11</td>\n      <td>76</td>\n      <td>2</td>\n    </tr>\n    <tr>\n      <th>207</th>\n      <td>5.8</td>\n      <td>80</td>\n      <td>78.0</td>\n      <td>96</td>\n      <td>67</td>\n      <td>3</td>\n    </tr>\n  </tbody>\n</table>\n<p>228 rows × 6 columns</p>\n</div>"
     },
     "execution_count": 10,
     "metadata": {},
     "output_type": "execute_result"
    }
   ],
   "source": [
    "X_train,X_test,y_train,y_test=splitDataset(x_with_feature_selection,y)\n",
    "X_train"
   ],
   "id": "c12daaca46281ef3"
  },
  {
   "cell_type": "code",
   "execution_count": 11,
   "metadata": {
    "collapsed": false,
    "ExecuteTime": {
     "end_time": "2024-06-09T11:30:40.973509Z",
     "start_time": "2024-06-09T11:30:40.950314Z"
    }
   },
   "outputs": [
    {
     "name": "stdout",
     "output_type": "stream",
     "text": [
      "                                 OLS Regression Results                                \n",
      "=======================================================================================\n",
      "Dep. Variable:            Reliability   R-squared (uncentered):                   0.980\n",
      "Model:                            OLS   Adj. R-squared (uncentered):              0.979\n",
      "Method:                 Least Squares   F-statistic:                              1773.\n",
      "Date:                Sun, 09 Jun 2024   Prob (F-statistic):                   1.81e-184\n",
      "Time:                        12:30:40   Log-Likelihood:                         -834.83\n",
      "No. Observations:                 228   AIC:                                      1682.\n",
      "Df Residuals:                     222   BIC:                                      1702.\n",
      "Df Model:                           6                                                  \n",
      "Covariance Type:            nonrobust                                                  \n",
      "==================================================================================\n",
      "                     coef    std err          t      P>|t|      [0.025      0.975]\n",
      "----------------------------------------------------------------------------------\n",
      "Throughput        -0.6828      0.145     -4.696      0.000      -0.969      -0.396\n",
      "Successability    -0.6300      0.042    -14.860      0.000      -0.714      -0.546\n",
      "Compliance        -0.2309      0.074     -3.108      0.002      -0.377      -0.084\n",
      "Documentation     -0.3368      0.024    -14.072      0.000      -0.384      -0.290\n",
      "WsRF               2.2810      0.093     24.623      0.000       2.098       2.464\n",
      "Class             -3.9516      0.804     -4.915      0.000      -5.536      -2.367\n",
      "==============================================================================\n",
      "Omnibus:                        0.628   Durbin-Watson:                   2.162\n",
      "Prob(Omnibus):                  0.731   Jarque-Bera (JB):                0.353\n",
      "Skew:                          -0.033   Prob(JB):                        0.838\n",
      "Kurtosis:                       3.181   Cond. No.                         178.\n",
      "==============================================================================\n",
      "\n",
      "Notes:\n",
      "[1] R² is computed without centering (uncentered) since the model does not contain a constant.\n",
      "[2] Standard Errors assume that the covariance matrix of the errors is correctly specified.\n"
     ]
    }
   ],
   "source": [
    "import statsmodels.api as sm\n",
    "#add constant to predictor variables\n",
    "x = sm.add_constant(X_train)\n",
    "#fit linear regression mode\n",
    "model = sm.OLS(y_train, X_train).fit()\n",
    "print_model = model.summary()\n",
    "#View model summary\n",
    "print(print_model)"
   ],
   "id": "d638fc66130089e3"
  },
  {
   "cell_type": "code",
   "execution_count": 12,
   "metadata": {
    "collapsed": false,
    "ExecuteTime": {
     "end_time": "2024-06-09T11:30:42.408611Z",
     "start_time": "2024-06-09T11:30:42.399779Z"
    }
   },
   "outputs": [
    {
     "data": {
      "text/plain": "78     79.453847\n218    31.713114\n117    71.531350\n249    74.369244\n225    68.674007\n67     74.921619\n136    64.374484\n291    53.251974\n21     78.429940\n43     73.503119\n334    51.836191\n231    54.453368\n18     75.221877\n106    86.147927\n87     86.907518\n228    62.402458\n271    36.865012\n206    32.406359\n240    57.236427\n162    77.014963\n183    48.522051\n285    45.726052\n126    58.806442\n355    54.929743\n131    76.174747\n135    64.369839\n262    29.244406\n274    64.686683\n152    46.400532\n368    37.436441\n255    53.752936\n12     82.570881\n9      85.247655\n237    75.395163\n115    63.991620\n356    32.358406\n122    75.719498\n128    84.087782\n11     80.873783\n88     84.381134\n97     56.298556\n191    56.179553\n216    59.745409\n245    62.812056\n294    48.825147\n150    61.181569\n189    48.413605\n250    64.986706\n98     86.381328\n344    47.446442\n83     73.777998\n353    49.903774\n345    57.595262\n266    57.107816\n101    95.950480\n177    70.921209\n308    53.083654\ndtype: float64"
     },
     "execution_count": 12,
     "metadata": {},
     "output_type": "execute_result"
    }
   ],
   "source": [
    "y_pred=model.predict(X_test)\n",
    "y_pred"
   ],
   "id": "8ada0cd74767846e"
  },
  {
   "cell_type": "code",
   "execution_count": 13,
   "metadata": {
    "collapsed": false,
    "ExecuteTime": {
     "end_time": "2024-06-09T11:30:43.881563Z",
     "start_time": "2024-06-09T11:30:43.863362Z"
    }
   },
   "outputs": [],
   "source": [
    "from sklearn.metrics import mean_squared_error, r2_score\n",
    "def evaluate_model_reg(model,y_test,y_pred):\n",
    "    #  Mean Squared Error (MSE)\n",
    "    mse = mean_squared_error(y_test, y_pred)\n",
    "    #R-squared\n",
    "    r2 = r2_score(y_test, y_pred)\n",
    "    # root mean squared error\n",
    "    rmse=mean_squared_error(y_test, y_pred, squared = False)\n",
    "    # define variables for adjusted r2 score\n",
    "    n = len(y_test)\n",
    "    k = len(X_test.columns)\n",
    "    # calculate adjusted r2 score\n",
    "    adj_r2_score = 1-(((1-r2)*(n-1))/(n-k-1))\n",
    "    # Print the evaluation metrics\n",
    "    print(\"Model:\",model)\n",
    "    print(\"Root Mean Squared Error (RMSE)\",rmse)\n",
    "    print(\"Mean Squared Error (MSE):\", mse)\n",
    "    print(\"R-squared (R2):\", r2)\n",
    "    print(\"Adjusted-R-squared\",adj_r2_score)"
   ],
   "id": "753624ae658143de"
  },
  {
   "cell_type": "code",
   "execution_count": 14,
   "metadata": {
    "collapsed": false,
    "ExecuteTime": {
     "end_time": "2024-06-09T11:30:45.401762Z",
     "start_time": "2024-06-09T11:30:45.374433Z"
    }
   },
   "outputs": [
    {
     "name": "stdout",
     "output_type": "stream",
     "text": [
      "Model: <statsmodels.regression.linear_model.RegressionResultsWrapper object at 0x289ed2150>\n",
      "Root Mean Squared Error (RMSE) 7.228992900363941\n",
      "Mean Squared Error (MSE): 52.25833835351226\n",
      "R-squared (R2): 0.8323819381226429\n",
      "Adjusted-R-squared 0.8122677706973601\n"
     ]
    }
   ],
   "source": [
    "evaluate_model_reg(model,y_test, y_pred)"
   ],
   "id": "7ce19b3a288e226c"
  },
  {
   "cell_type": "markdown",
   "metadata": {
    "collapsed": false
   },
   "source": [
    "## Ridge"
   ],
   "id": "ab3e5efd4f802f01"
  },
  {
   "cell_type": "code",
   "execution_count": 15,
   "metadata": {
    "collapsed": false,
    "ExecuteTime": {
     "end_time": "2024-06-09T11:30:53.610284Z",
     "start_time": "2024-06-09T11:30:53.604386Z"
    }
   },
   "outputs": [],
   "source": [
    "X_train,X_test,y_train,y_test = train_test_split(X,y,test_size=0.2,random_state=0)"
   ],
   "id": "cf873b52c384d69d"
  },
  {
   "cell_type": "code",
   "execution_count": 16,
   "metadata": {
    "collapsed": false,
    "ExecuteTime": {
     "end_time": "2024-06-09T11:30:54.619383Z",
     "start_time": "2024-06-09T11:30:54.597068Z"
    }
   },
   "outputs": [],
   "source": [
    "from sklearn.linear_model import Ridge"
   ],
   "id": "3cfc19209843da09"
  },
  {
   "cell_type": "markdown",
   "metadata": {
    "collapsed": false
   },
   "source": [
    "#### Grid search"
   ],
   "id": "c441e37ef58b7532"
  },
  {
   "cell_type": "code",
   "execution_count": 17,
   "metadata": {
    "collapsed": false,
    "ExecuteTime": {
     "end_time": "2024-06-09T11:30:56.044534Z",
     "start_time": "2024-06-09T11:30:56.007585Z"
    }
   },
   "outputs": [
    {
     "name": "stdout",
     "output_type": "stream",
     "text": [
      "Best set of hyperparameters:  {'alpha': 10.0}\n"
     ]
    }
   ],
   "source": [
    "from sklearn.model_selection import GridSearchCV\n",
    "# Define the parameter grid to search over\n",
    "param_grid = {'alpha': [0.1,0.5, 1.0,5.0,10.0]}\n",
    "\n",
    "# Create a Ridge Regression model\n",
    "ridgeModel = Ridge()\n",
    "\n",
    "# Use GridSearchCV to perform cross-validation and find the best set of hyperparameters\n",
    "grid_search = GridSearchCV(ridgeModel, param_grid, cv=5, scoring='neg_mean_squared_error')\n",
    "grid_search.fit(X_train, y_train)\n",
    "\n",
    "# Print the best set of hyperparameters found\n",
    "print(\"Best set of hyperparameters: \", grid_search.best_params_)\n",
    "\n"
   ],
   "id": "774f19ece42e0be5"
  },
  {
   "cell_type": "code",
   "execution_count": 18,
   "metadata": {
    "collapsed": false,
    "ExecuteTime": {
     "end_time": "2024-06-09T11:30:57.389479Z",
     "start_time": "2024-06-09T11:30:57.384657Z"
    }
   },
   "outputs": [],
   "source": [
    "\n",
    "# Create a Ridge Regression model with a regularization strength of 1.0\n",
    "ridgeModel = Ridge(alpha=10.0)\n",
    "\n",
    "# Train the model on the training data\n",
    "ridgeModel.fit(X_train, y_train)\n",
    "\n",
    "# Use the model to make predictions on the test data\n",
    "y_pred = ridgeModel.predict(X_test)\n"
   ],
   "id": "b1a7bab1e62ca588"
  },
  {
   "cell_type": "code",
   "execution_count": 19,
   "metadata": {
    "collapsed": false,
    "ExecuteTime": {
     "end_time": "2024-06-09T11:30:58.415119Z",
     "start_time": "2024-06-09T11:30:58.386218Z"
    }
   },
   "outputs": [
    {
     "name": "stdout",
     "output_type": "stream",
     "text": [
      "Model: Ridge(alpha=10.0)\n",
      "Root Mean Squared Error (RMSE) 6.608890530878862\n",
      "Mean Squared Error (MSE): 43.67743404914029\n",
      "R-squared (R2): 0.8599050969901165\n",
      "Adjusted-R-squared 0.8330784134350324\n"
     ]
    }
   ],
   "source": [
    "evaluate_model_reg(ridgeModel,y_test,y_pred)"
   ],
   "id": "9a9bfffe2b9aa7ed"
  },
  {
   "cell_type": "markdown",
   "metadata": {
    "collapsed": false
   },
   "source": [
    "## Lasso"
   ],
   "id": "1a641b0db440d9bf"
  },
  {
   "cell_type": "code",
   "execution_count": 20,
   "metadata": {
    "collapsed": false,
    "ExecuteTime": {
     "end_time": "2024-06-09T11:31:02.533323Z",
     "start_time": "2024-06-09T11:31:02.528067Z"
    }
   },
   "outputs": [],
   "source": [
    "from sklearn.linear_model import Lasso"
   ],
   "id": "e03feb44c0cb009a"
  },
  {
   "cell_type": "code",
   "execution_count": 21,
   "metadata": {
    "collapsed": false,
    "ExecuteTime": {
     "end_time": "2024-06-09T11:31:03.033517Z",
     "start_time": "2024-06-09T11:31:03.026820Z"
    }
   },
   "outputs": [],
   "source": [
    "X_train,X_test,y_train,y_test = train_test_split(X,y,test_size=0.2,random_state=0)\n"
   ],
   "id": "79a2813ceb64268c"
  },
  {
   "cell_type": "markdown",
   "metadata": {
    "collapsed": false
   },
   "source": [
    "## Grid Search"
   ],
   "id": "d3c8be520fe2b45f"
  },
  {
   "cell_type": "code",
   "execution_count": 22,
   "metadata": {
    "collapsed": false,
    "ExecuteTime": {
     "end_time": "2024-06-09T11:31:04.299441Z",
     "start_time": "2024-06-09T11:31:04.187020Z"
    }
   },
   "outputs": [
    {
     "name": "stdout",
     "output_type": "stream",
     "text": [
      "Best set of hyperparameters:  {'alpha': 0.5, 'max_iter': 1000}\n"
     ]
    }
   ],
   "source": [
    "# Define the parameter grid to search over\n",
    "param_grid = {'alpha': [0.1,0.5, 1.0,5.0, 10.0], 'max_iter': [1000, 5000, 10000]}\n",
    "\n",
    "# Create a Lasso Regression model\n",
    "lassoModelodel = Lasso()\n",
    "\n",
    "# Use GridSearchCV to perform cross-validation and find the best set of hyperparameters\n",
    "grid_search = GridSearchCV(lassoModelodel, param_grid, cv=5, scoring='neg_mean_squared_error')\n",
    "grid_search.fit(X_train, y_train)\n",
    "\n",
    "# Print the best set of hyperparameters found\n",
    "print(\"Best set of hyperparameters: \", grid_search.best_params_)"
   ],
   "id": "d50c2d3f6a8fec32"
  },
  {
   "cell_type": "code",
   "execution_count": 23,
   "metadata": {
    "collapsed": false,
    "ExecuteTime": {
     "end_time": "2024-06-09T11:31:05.678996Z",
     "start_time": "2024-06-09T11:31:05.660879Z"
    }
   },
   "outputs": [],
   "source": [
    "# Create a Lasso Regression model with a regularization strength of 1.0\n",
    "lassoModel = Lasso(alpha=0.5,max_iter=1000)\n",
    "# Train the model on the training data\n",
    "lassoModel.fit(X_train, y_train)\n",
    "# Use the model to make predictions on the test data\n",
    "y_pred = lassoModel.predict(X_test)"
   ],
   "id": "7da09b11b810edc"
  },
  {
   "cell_type": "code",
   "execution_count": 24,
   "metadata": {
    "collapsed": false,
    "ExecuteTime": {
     "end_time": "2024-06-09T11:31:07.318146Z",
     "start_time": "2024-06-09T11:31:07.291298Z"
    }
   },
   "outputs": [
    {
     "name": "stdout",
     "output_type": "stream",
     "text": [
      "Model: Lasso(alpha=0.5)\n",
      "Root Mean Squared Error (RMSE) 6.6619277451966425\n",
      "Mean Squared Error (MSE): 44.38128128222082\n",
      "R-squared (R2): 0.857647514510769\n",
      "Adjusted-R-squared 0.8303885279277248\n"
     ]
    }
   ],
   "source": [
    "evaluate_model_reg(lassoModel,y_test,y_pred)"
   ],
   "id": "72e9db721c3d61d2"
  },
  {
   "cell_type": "markdown",
   "metadata": {
    "collapsed": false
   },
   "source": [
    "## Elastic Net"
   ],
   "id": "b8aef2c609040b70"
  },
  {
   "cell_type": "code",
   "execution_count": 25,
   "metadata": {
    "collapsed": false,
    "ExecuteTime": {
     "end_time": "2024-06-09T11:31:09.426824Z",
     "start_time": "2024-06-09T11:31:09.420004Z"
    }
   },
   "outputs": [],
   "source": [
    "from sklearn.linear_model import ElasticNet"
   ],
   "id": "72bd2a7fbb0ec564"
  },
  {
   "cell_type": "code",
   "execution_count": 26,
   "metadata": {
    "collapsed": false,
    "ExecuteTime": {
     "end_time": "2024-06-09T11:31:10.015762Z",
     "start_time": "2024-06-09T11:31:10.003876Z"
    }
   },
   "outputs": [],
   "source": [
    "X_train,X_test,y_train,y_test = train_test_split(X,y,test_size=0.2,random_state=0)\n"
   ],
   "id": "938c4692478f579a"
  },
  {
   "cell_type": "code",
   "execution_count": 27,
   "metadata": {
    "collapsed": false,
    "ExecuteTime": {
     "end_time": "2024-06-09T11:31:10.970301Z",
     "start_time": "2024-06-09T11:31:10.776523Z"
    }
   },
   "outputs": [
    {
     "name": "stdout",
     "output_type": "stream",
     "text": [
      "Best set of hyperparameters:  {'alpha': 1.0, 'l1_ratio': 0.5, 'max_iter': 1000}\n"
     ]
    }
   ],
   "source": [
    "# Define the parameter grid to search over\n",
    "param_grid = {'alpha': [0.1, 1.0, 10.0], 'l1_ratio': [0.1, 0.5, 0.9], 'max_iter': [1000, 5000, 10000]}\n",
    "\n",
    "# Create an Elastic Net Regression model\n",
    "elasticNetModel = ElasticNet()\n",
    "\n",
    "# Use GridSearchCV to perform cross-validation and find the best set of hyperparameters\n",
    "grid_search = GridSearchCV(elasticNetModel, param_grid, cv=5, scoring='neg_mean_squared_error')\n",
    "grid_search.fit(X_train, y_train)\n",
    "\n",
    "# Print the best set of hyperparameters found\n",
    "print(\"Best set of hyperparameters: \", grid_search.best_params_)\n"
   ],
   "id": "fed12c916ad2f175"
  },
  {
   "cell_type": "code",
   "execution_count": 28,
   "metadata": {
    "collapsed": false,
    "ExecuteTime": {
     "end_time": "2024-06-09T11:31:12.137226Z",
     "start_time": "2024-06-09T11:31:12.119472Z"
    }
   },
   "outputs": [],
   "source": [
    "# Create an Elastic Net Regression model with a regularization strength of 1.0 and a L1 ratio of 0.5\n",
    "elasticNetModel = ElasticNet(alpha=1.0, l1_ratio=1.0,max_iter=1000)\n",
    "\n",
    "# Train the model on the training data\n",
    "elasticNetModel.fit(X_train, y_train)\n",
    "\n",
    "# Use the model to make predictions on the test data\n",
    "y_pred = elasticNetModel.predict(X_test)"
   ],
   "id": "55913cfadc1844cb"
  },
  {
   "cell_type": "code",
   "execution_count": 29,
   "metadata": {
    "collapsed": false,
    "ExecuteTime": {
     "end_time": "2024-06-09T11:31:13.069779Z",
     "start_time": "2024-06-09T11:31:13.041770Z"
    }
   },
   "outputs": [
    {
     "name": "stdout",
     "output_type": "stream",
     "text": [
      "Model: ElasticNet(l1_ratio=1.0)\n",
      "Root Mean Squared Error (RMSE) 6.704574159228645\n",
      "Mean Squared Error (MSE): 44.9513146565965\n",
      "R-squared (R2): 0.8558191385533876\n",
      "Adjusted-R-squared 0.828210037425313\n"
     ]
    }
   ],
   "source": [
    "evaluate_model_reg(elasticNetModel,y_test,y_pred)"
   ],
   "id": "7aace2261a56b117"
  },
  {
   "cell_type": "markdown",
   "metadata": {
    "collapsed": false
   },
   "source": [
    "## DecisionTreeRegressor"
   ],
   "id": "912a302f6902dff0"
  },
  {
   "cell_type": "markdown",
   "metadata": {
    "collapsed": false
   },
   "source": [
    "![alt text](images/DT.png \"Decision Tree\")"
   ],
   "id": "32e60c322e1ba46e"
  },
  {
   "cell_type": "code",
   "execution_count": 30,
   "metadata": {
    "collapsed": false,
    "ExecuteTime": {
     "end_time": "2024-06-09T11:32:17.417557Z",
     "start_time": "2024-06-09T11:32:17.396862Z"
    }
   },
   "outputs": [],
   "source": [
    "X_train_Tree,X_test_tree,y_train_tree,y_test_tree=splitDataset(X,y)"
   ],
   "id": "db31e5f793969fb6"
  },
  {
   "cell_type": "code",
   "execution_count": 31,
   "metadata": {
    "collapsed": false,
    "ExecuteTime": {
     "end_time": "2024-06-09T11:32:18.411318Z",
     "start_time": "2024-06-09T11:32:18.391340Z"
    }
   },
   "outputs": [
    {
     "data": {
      "text/plain": "DecisionTreeRegressor(random_state=0)",
      "text/html": "<style>#sk-container-id-1 {color: black;background-color: white;}#sk-container-id-1 pre{padding: 0;}#sk-container-id-1 div.sk-toggleable {background-color: white;}#sk-container-id-1 label.sk-toggleable__label {cursor: pointer;display: block;width: 100%;margin-bottom: 0;padding: 0.3em;box-sizing: border-box;text-align: center;}#sk-container-id-1 label.sk-toggleable__label-arrow:before {content: \"▸\";float: left;margin-right: 0.25em;color: #696969;}#sk-container-id-1 label.sk-toggleable__label-arrow:hover:before {color: black;}#sk-container-id-1 div.sk-estimator:hover label.sk-toggleable__label-arrow:before {color: black;}#sk-container-id-1 div.sk-toggleable__content {max-height: 0;max-width: 0;overflow: hidden;text-align: left;background-color: #f0f8ff;}#sk-container-id-1 div.sk-toggleable__content pre {margin: 0.2em;color: black;border-radius: 0.25em;background-color: #f0f8ff;}#sk-container-id-1 input.sk-toggleable__control:checked~div.sk-toggleable__content {max-height: 200px;max-width: 100%;overflow: auto;}#sk-container-id-1 input.sk-toggleable__control:checked~label.sk-toggleable__label-arrow:before {content: \"▾\";}#sk-container-id-1 div.sk-estimator input.sk-toggleable__control:checked~label.sk-toggleable__label {background-color: #d4ebff;}#sk-container-id-1 div.sk-label input.sk-toggleable__control:checked~label.sk-toggleable__label {background-color: #d4ebff;}#sk-container-id-1 input.sk-hidden--visually {border: 0;clip: rect(1px 1px 1px 1px);clip: rect(1px, 1px, 1px, 1px);height: 1px;margin: -1px;overflow: hidden;padding: 0;position: absolute;width: 1px;}#sk-container-id-1 div.sk-estimator {font-family: monospace;background-color: #f0f8ff;border: 1px dotted black;border-radius: 0.25em;box-sizing: border-box;margin-bottom: 0.5em;}#sk-container-id-1 div.sk-estimator:hover {background-color: #d4ebff;}#sk-container-id-1 div.sk-parallel-item::after {content: \"\";width: 100%;border-bottom: 1px solid gray;flex-grow: 1;}#sk-container-id-1 div.sk-label:hover label.sk-toggleable__label {background-color: #d4ebff;}#sk-container-id-1 div.sk-serial::before {content: \"\";position: absolute;border-left: 1px solid gray;box-sizing: border-box;top: 0;bottom: 0;left: 50%;z-index: 0;}#sk-container-id-1 div.sk-serial {display: flex;flex-direction: column;align-items: center;background-color: white;padding-right: 0.2em;padding-left: 0.2em;position: relative;}#sk-container-id-1 div.sk-item {position: relative;z-index: 1;}#sk-container-id-1 div.sk-parallel {display: flex;align-items: stretch;justify-content: center;background-color: white;position: relative;}#sk-container-id-1 div.sk-item::before, #sk-container-id-1 div.sk-parallel-item::before {content: \"\";position: absolute;border-left: 1px solid gray;box-sizing: border-box;top: 0;bottom: 0;left: 50%;z-index: -1;}#sk-container-id-1 div.sk-parallel-item {display: flex;flex-direction: column;z-index: 1;position: relative;background-color: white;}#sk-container-id-1 div.sk-parallel-item:first-child::after {align-self: flex-end;width: 50%;}#sk-container-id-1 div.sk-parallel-item:last-child::after {align-self: flex-start;width: 50%;}#sk-container-id-1 div.sk-parallel-item:only-child::after {width: 0;}#sk-container-id-1 div.sk-dashed-wrapped {border: 1px dashed gray;margin: 0 0.4em 0.5em 0.4em;box-sizing: border-box;padding-bottom: 0.4em;background-color: white;}#sk-container-id-1 div.sk-label label {font-family: monospace;font-weight: bold;display: inline-block;line-height: 1.2em;}#sk-container-id-1 div.sk-label-container {text-align: center;}#sk-container-id-1 div.sk-container {/* jupyter's `normalize.less` sets `[hidden] { display: none; }` but bootstrap.min.css set `[hidden] { display: none !important; }` so we also need the `!important` here to be able to override the default hidden behavior on the sphinx rendered scikit-learn.org. See: https://github.com/scikit-learn/scikit-learn/issues/21755 */display: inline-block !important;position: relative;}#sk-container-id-1 div.sk-text-repr-fallback {display: none;}</style><div id=\"sk-container-id-1\" class=\"sk-top-container\"><div class=\"sk-text-repr-fallback\"><pre>DecisionTreeRegressor(random_state=0)</pre><b>In a Jupyter environment, please rerun this cell to show the HTML representation or trust the notebook. <br />On GitHub, the HTML representation is unable to render, please try loading this page with nbviewer.org.</b></div><div class=\"sk-container\" hidden><div class=\"sk-item\"><div class=\"sk-estimator sk-toggleable\"><input class=\"sk-toggleable__control sk-hidden--visually\" id=\"sk-estimator-id-1\" type=\"checkbox\" checked><label for=\"sk-estimator-id-1\" class=\"sk-toggleable__label sk-toggleable__label-arrow\">DecisionTreeRegressor</label><div class=\"sk-toggleable__content\"><pre>DecisionTreeRegressor(random_state=0)</pre></div></div></div></div></div>"
     },
     "execution_count": 31,
     "metadata": {},
     "output_type": "execute_result"
    }
   ],
   "source": [
    "# import the regressor\n",
    "from sklearn.tree import DecisionTreeRegressor\n",
    "# create a regressor object\n",
    "regressor = DecisionTreeRegressor(random_state = 0)\n",
    "# fit the regressor with X and Y data\n",
    "regressor.fit(X_train_Tree, y_train_tree)"
   ],
   "id": "d9eac9b6ae986fd1"
  },
  {
   "cell_type": "code",
   "execution_count": 32,
   "metadata": {
    "collapsed": false,
    "ExecuteTime": {
     "end_time": "2024-06-09T11:32:20.963045Z",
     "start_time": "2024-06-09T11:32:20.956374Z"
    }
   },
   "outputs": [
    {
     "data": {
      "text/plain": "array([78.7, 29.4, 70.2, 65.1, 61.9, 79. , 55.4, 80.9, 85.5, 79. , 19.1,\n       63.8, 82.5, 81.4, 86.6, 64.6, 29.4, 27.7, 77.1, 82. , 61.9, 54.3,\n       55. , 40.2, 60.2, 55.4, 23.1, 45.6, 50.6, 40.2, 77.1, 84.1, 89.2,\n       61.9, 75.7, 15.9, 94.4, 78.5, 82.5, 86.6, 62.8, 64. , 77.1, 61.2,\n       62.2, 62.6, 56.4, 71.4, 86.6, 11.9, 78.7, 50.5, 69.7, 66.5, 82.4,\n       53. , 43.9])"
     },
     "execution_count": 32,
     "metadata": {},
     "output_type": "execute_result"
    }
   ],
   "source": [
    "y_pred_tree=regressor.predict(X_test_tree)\n",
    "y_pred_tree"
   ],
   "id": "e991890f044b3608"
  },
  {
   "cell_type": "code",
   "execution_count": 33,
   "metadata": {
    "collapsed": false,
    "ExecuteTime": {
     "end_time": "2024-06-09T11:32:21.989995Z",
     "start_time": "2024-06-09T11:32:21.967277Z"
    }
   },
   "outputs": [
    {
     "name": "stdout",
     "output_type": "stream",
     "text": [
      "Model: DecisionTreeRegressor(random_state=0)\n",
      "Root Mean Squared Error (RMSE) 14.209318662135257\n",
      "Mean Squared Error (MSE): 201.90473684210525\n",
      "R-squared (R2): 0.3523927139742874\n",
      "Adjusted-R-squared 0.22838280813957645\n"
     ]
    }
   ],
   "source": [
    "evaluate_model_reg(regressor,y_test_tree, y_pred_tree)"
   ],
   "id": "1e8565d9b6661420"
  },
  {
   "cell_type": "markdown",
   "metadata": {
    "collapsed": false
   },
   "source": [
    "### Grid Search"
   ],
   "id": "b7c339579b869e4d"
  },
  {
   "cell_type": "markdown",
   "metadata": {
    "collapsed": false
   },
   "source": [
    "![alt text](images/grid-search.png \"Grid Search\")"
   ],
   "id": "7d84b175e9241488"
  },
  {
   "cell_type": "code",
   "execution_count": 34,
   "metadata": {
    "collapsed": false,
    "ExecuteTime": {
     "end_time": "2024-06-09T11:32:56.753952Z",
     "start_time": "2024-06-09T11:32:56.734051Z"
    }
   },
   "outputs": [],
   "source": [
    "from sklearn.model_selection import GridSearchCV"
   ],
   "id": "469c482838b51398"
  },
  {
   "cell_type": "code",
   "execution_count": 35,
   "metadata": {
    "collapsed": false,
    "ExecuteTime": {
     "end_time": "2024-06-09T11:32:59.977738Z",
     "start_time": "2024-06-09T11:32:57.777302Z"
    }
   },
   "outputs": [
    {
     "name": "stdout",
     "output_type": "stream",
     "text": [
      "Best hyperparameters:  {'max_depth': 7, 'min_samples_leaf': 9, 'min_samples_split': 2}\n"
     ]
    }
   ],
   "source": [
    "# set up the hyperparameters to tune\n",
    "params = {'max_depth': [3, 5, 7, 9,11,13,15,17],\n",
    "          'min_samples_split': [2, 5, 7,9,11],\n",
    "          'min_samples_leaf': [1, 2, 4,6,7,9,11]}\n",
    "# perform a grid search with cross-validation\n",
    "grid_search = GridSearchCV(regressor, param_grid=params, cv=5)\n",
    "grid_search.fit(X, y)\n",
    "# print the best hyperparameters and score\n",
    "print(\"Best hyperparameters: \", grid_search.best_params_)"
   ],
   "id": "f3b51c6a8d33bc0a"
  },
  {
   "cell_type": "code",
   "execution_count": 36,
   "metadata": {
    "collapsed": false,
    "ExecuteTime": {
     "end_time": "2024-06-09T11:33:01.298739Z",
     "start_time": "2024-06-09T11:33:01.276698Z"
    }
   },
   "outputs": [
    {
     "data": {
      "text/plain": "DecisionTreeRegressor(max_depth=5, min_samples_leaf=7, random_state=0)",
      "text/html": "<style>#sk-container-id-2 {color: black;background-color: white;}#sk-container-id-2 pre{padding: 0;}#sk-container-id-2 div.sk-toggleable {background-color: white;}#sk-container-id-2 label.sk-toggleable__label {cursor: pointer;display: block;width: 100%;margin-bottom: 0;padding: 0.3em;box-sizing: border-box;text-align: center;}#sk-container-id-2 label.sk-toggleable__label-arrow:before {content: \"▸\";float: left;margin-right: 0.25em;color: #696969;}#sk-container-id-2 label.sk-toggleable__label-arrow:hover:before {color: black;}#sk-container-id-2 div.sk-estimator:hover label.sk-toggleable__label-arrow:before {color: black;}#sk-container-id-2 div.sk-toggleable__content {max-height: 0;max-width: 0;overflow: hidden;text-align: left;background-color: #f0f8ff;}#sk-container-id-2 div.sk-toggleable__content pre {margin: 0.2em;color: black;border-radius: 0.25em;background-color: #f0f8ff;}#sk-container-id-2 input.sk-toggleable__control:checked~div.sk-toggleable__content {max-height: 200px;max-width: 100%;overflow: auto;}#sk-container-id-2 input.sk-toggleable__control:checked~label.sk-toggleable__label-arrow:before {content: \"▾\";}#sk-container-id-2 div.sk-estimator input.sk-toggleable__control:checked~label.sk-toggleable__label {background-color: #d4ebff;}#sk-container-id-2 div.sk-label input.sk-toggleable__control:checked~label.sk-toggleable__label {background-color: #d4ebff;}#sk-container-id-2 input.sk-hidden--visually {border: 0;clip: rect(1px 1px 1px 1px);clip: rect(1px, 1px, 1px, 1px);height: 1px;margin: -1px;overflow: hidden;padding: 0;position: absolute;width: 1px;}#sk-container-id-2 div.sk-estimator {font-family: monospace;background-color: #f0f8ff;border: 1px dotted black;border-radius: 0.25em;box-sizing: border-box;margin-bottom: 0.5em;}#sk-container-id-2 div.sk-estimator:hover {background-color: #d4ebff;}#sk-container-id-2 div.sk-parallel-item::after {content: \"\";width: 100%;border-bottom: 1px solid gray;flex-grow: 1;}#sk-container-id-2 div.sk-label:hover label.sk-toggleable__label {background-color: #d4ebff;}#sk-container-id-2 div.sk-serial::before {content: \"\";position: absolute;border-left: 1px solid gray;box-sizing: border-box;top: 0;bottom: 0;left: 50%;z-index: 0;}#sk-container-id-2 div.sk-serial {display: flex;flex-direction: column;align-items: center;background-color: white;padding-right: 0.2em;padding-left: 0.2em;position: relative;}#sk-container-id-2 div.sk-item {position: relative;z-index: 1;}#sk-container-id-2 div.sk-parallel {display: flex;align-items: stretch;justify-content: center;background-color: white;position: relative;}#sk-container-id-2 div.sk-item::before, #sk-container-id-2 div.sk-parallel-item::before {content: \"\";position: absolute;border-left: 1px solid gray;box-sizing: border-box;top: 0;bottom: 0;left: 50%;z-index: -1;}#sk-container-id-2 div.sk-parallel-item {display: flex;flex-direction: column;z-index: 1;position: relative;background-color: white;}#sk-container-id-2 div.sk-parallel-item:first-child::after {align-self: flex-end;width: 50%;}#sk-container-id-2 div.sk-parallel-item:last-child::after {align-self: flex-start;width: 50%;}#sk-container-id-2 div.sk-parallel-item:only-child::after {width: 0;}#sk-container-id-2 div.sk-dashed-wrapped {border: 1px dashed gray;margin: 0 0.4em 0.5em 0.4em;box-sizing: border-box;padding-bottom: 0.4em;background-color: white;}#sk-container-id-2 div.sk-label label {font-family: monospace;font-weight: bold;display: inline-block;line-height: 1.2em;}#sk-container-id-2 div.sk-label-container {text-align: center;}#sk-container-id-2 div.sk-container {/* jupyter's `normalize.less` sets `[hidden] { display: none; }` but bootstrap.min.css set `[hidden] { display: none !important; }` so we also need the `!important` here to be able to override the default hidden behavior on the sphinx rendered scikit-learn.org. See: https://github.com/scikit-learn/scikit-learn/issues/21755 */display: inline-block !important;position: relative;}#sk-container-id-2 div.sk-text-repr-fallback {display: none;}</style><div id=\"sk-container-id-2\" class=\"sk-top-container\"><div class=\"sk-text-repr-fallback\"><pre>DecisionTreeRegressor(max_depth=5, min_samples_leaf=7, random_state=0)</pre><b>In a Jupyter environment, please rerun this cell to show the HTML representation or trust the notebook. <br />On GitHub, the HTML representation is unable to render, please try loading this page with nbviewer.org.</b></div><div class=\"sk-container\" hidden><div class=\"sk-item\"><div class=\"sk-estimator sk-toggleable\"><input class=\"sk-toggleable__control sk-hidden--visually\" id=\"sk-estimator-id-2\" type=\"checkbox\" checked><label for=\"sk-estimator-id-2\" class=\"sk-toggleable__label sk-toggleable__label-arrow\">DecisionTreeRegressor</label><div class=\"sk-toggleable__content\"><pre>DecisionTreeRegressor(max_depth=5, min_samples_leaf=7, random_state=0)</pre></div></div></div></div></div>"
     },
     "execution_count": 36,
     "metadata": {},
     "output_type": "execute_result"
    }
   ],
   "source": [
    "# import the regressor\n",
    "from sklearn.tree import DecisionTreeRegressor\n",
    "# create a regressor object\n",
    "regressor = DecisionTreeRegressor(random_state = 0,max_depth=5,min_samples_leaf=7,min_samples_split=2)\n",
    "# fit the regressor with X and Y data\n",
    "regressor.fit(X_train_Tree, y_train_tree)"
   ],
   "id": "4ac2f55ea49e4bbe"
  },
  {
   "cell_type": "code",
   "execution_count": 37,
   "metadata": {
    "collapsed": false,
    "ExecuteTime": {
     "end_time": "2024-06-09T11:33:03.249749Z",
     "start_time": "2024-06-09T11:33:03.243340Z"
    }
   },
   "outputs": [
    {
     "data": {
      "text/plain": "array([83.86153846, 31.83846154, 71.325     , 71.325     , 71.325     ,\n       55.8       , 65.5       , 60.51764706, 83.86153846, 55.8       ,\n       46.87407407, 60.51764706, 83.86153846, 71.325     , 90.15714286,\n       71.325     , 31.83846154, 31.83846154, 60.51764706, 83.86153846,\n       71.325     , 46.87407407, 60.51764706, 46.87407407, 65.5       ,\n       65.5       , 27.25555556, 48.36      , 45.3625    , 46.87407407,\n       60.51764706, 83.86153846, 90.15714286, 71.325     , 71.325     ,\n       46.87407407, 83.28      , 71.325     , 83.86153846, 90.15714286,\n       60.51764706, 71.325     , 60.51764706, 71.325     , 46.87407407,\n       65.5       , 71.325     , 83.28      , 80.28571429, 46.87407407,\n       83.86153846, 46.87407407, 75.67692308, 60.51764706, 71.325     ,\n       57.2       , 48.36      ])"
     },
     "execution_count": 37,
     "metadata": {},
     "output_type": "execute_result"
    }
   ],
   "source": [
    "y_pred_tree=regressor.predict(X_test_tree)\n",
    "y_pred_tree"
   ],
   "id": "a9e4b5d442d458b8"
  },
  {
   "cell_type": "code",
   "execution_count": 38,
   "metadata": {
    "collapsed": false,
    "ExecuteTime": {
     "end_time": "2024-06-09T11:33:05.274855Z",
     "start_time": "2024-06-09T11:33:05.250226Z"
    }
   },
   "outputs": [
    {
     "name": "stdout",
     "output_type": "stream",
     "text": [
      "Model: DecisionTreeRegressor(max_depth=5, min_samples_leaf=7, random_state=0)\n",
      "Root Mean Squared Error (RMSE) 12.226912264302376\n",
      "Mean Squared Error (MSE): 149.49738351894786\n",
      "R-squared (R2): 0.5204887397745244\n",
      "Adjusted-R-squared 0.42866743462496515\n"
     ]
    }
   ],
   "source": [
    "evaluate_model_reg(regressor,y_test_tree, y_pred_tree)"
   ],
   "id": "eaae3e80dcf609c2"
  },
  {
   "cell_type": "markdown",
   "metadata": {
    "collapsed": false
   },
   "source": [
    "### with feature selection"
   ],
   "id": "8957384d0e21d9e0"
  },
  {
   "cell_type": "code",
   "execution_count": 39,
   "metadata": {
    "collapsed": false,
    "ExecuteTime": {
     "end_time": "2024-06-09T11:33:07.932827Z",
     "start_time": "2024-06-09T11:33:07.924443Z"
    }
   },
   "outputs": [],
   "source": [
    "X_train_Tree,X_test_tree,y_train_tree,y_test_tree=splitDataset(x_with_feature_selection,y)"
   ],
   "id": "7ec14332f93ddc70"
  },
  {
   "cell_type": "code",
   "execution_count": 40,
   "metadata": {
    "collapsed": false,
    "ExecuteTime": {
     "end_time": "2024-06-09T11:33:09.026754Z",
     "start_time": "2024-06-09T11:33:09.009275Z"
    }
   },
   "outputs": [
    {
     "data": {
      "text/plain": "DecisionTreeRegressor(max_depth=5, min_samples_leaf=7, random_state=0)",
      "text/html": "<style>#sk-container-id-3 {color: black;background-color: white;}#sk-container-id-3 pre{padding: 0;}#sk-container-id-3 div.sk-toggleable {background-color: white;}#sk-container-id-3 label.sk-toggleable__label {cursor: pointer;display: block;width: 100%;margin-bottom: 0;padding: 0.3em;box-sizing: border-box;text-align: center;}#sk-container-id-3 label.sk-toggleable__label-arrow:before {content: \"▸\";float: left;margin-right: 0.25em;color: #696969;}#sk-container-id-3 label.sk-toggleable__label-arrow:hover:before {color: black;}#sk-container-id-3 div.sk-estimator:hover label.sk-toggleable__label-arrow:before {color: black;}#sk-container-id-3 div.sk-toggleable__content {max-height: 0;max-width: 0;overflow: hidden;text-align: left;background-color: #f0f8ff;}#sk-container-id-3 div.sk-toggleable__content pre {margin: 0.2em;color: black;border-radius: 0.25em;background-color: #f0f8ff;}#sk-container-id-3 input.sk-toggleable__control:checked~div.sk-toggleable__content {max-height: 200px;max-width: 100%;overflow: auto;}#sk-container-id-3 input.sk-toggleable__control:checked~label.sk-toggleable__label-arrow:before {content: \"▾\";}#sk-container-id-3 div.sk-estimator input.sk-toggleable__control:checked~label.sk-toggleable__label {background-color: #d4ebff;}#sk-container-id-3 div.sk-label input.sk-toggleable__control:checked~label.sk-toggleable__label {background-color: #d4ebff;}#sk-container-id-3 input.sk-hidden--visually {border: 0;clip: rect(1px 1px 1px 1px);clip: rect(1px, 1px, 1px, 1px);height: 1px;margin: -1px;overflow: hidden;padding: 0;position: absolute;width: 1px;}#sk-container-id-3 div.sk-estimator {font-family: monospace;background-color: #f0f8ff;border: 1px dotted black;border-radius: 0.25em;box-sizing: border-box;margin-bottom: 0.5em;}#sk-container-id-3 div.sk-estimator:hover {background-color: #d4ebff;}#sk-container-id-3 div.sk-parallel-item::after {content: \"\";width: 100%;border-bottom: 1px solid gray;flex-grow: 1;}#sk-container-id-3 div.sk-label:hover label.sk-toggleable__label {background-color: #d4ebff;}#sk-container-id-3 div.sk-serial::before {content: \"\";position: absolute;border-left: 1px solid gray;box-sizing: border-box;top: 0;bottom: 0;left: 50%;z-index: 0;}#sk-container-id-3 div.sk-serial {display: flex;flex-direction: column;align-items: center;background-color: white;padding-right: 0.2em;padding-left: 0.2em;position: relative;}#sk-container-id-3 div.sk-item {position: relative;z-index: 1;}#sk-container-id-3 div.sk-parallel {display: flex;align-items: stretch;justify-content: center;background-color: white;position: relative;}#sk-container-id-3 div.sk-item::before, #sk-container-id-3 div.sk-parallel-item::before {content: \"\";position: absolute;border-left: 1px solid gray;box-sizing: border-box;top: 0;bottom: 0;left: 50%;z-index: -1;}#sk-container-id-3 div.sk-parallel-item {display: flex;flex-direction: column;z-index: 1;position: relative;background-color: white;}#sk-container-id-3 div.sk-parallel-item:first-child::after {align-self: flex-end;width: 50%;}#sk-container-id-3 div.sk-parallel-item:last-child::after {align-self: flex-start;width: 50%;}#sk-container-id-3 div.sk-parallel-item:only-child::after {width: 0;}#sk-container-id-3 div.sk-dashed-wrapped {border: 1px dashed gray;margin: 0 0.4em 0.5em 0.4em;box-sizing: border-box;padding-bottom: 0.4em;background-color: white;}#sk-container-id-3 div.sk-label label {font-family: monospace;font-weight: bold;display: inline-block;line-height: 1.2em;}#sk-container-id-3 div.sk-label-container {text-align: center;}#sk-container-id-3 div.sk-container {/* jupyter's `normalize.less` sets `[hidden] { display: none; }` but bootstrap.min.css set `[hidden] { display: none !important; }` so we also need the `!important` here to be able to override the default hidden behavior on the sphinx rendered scikit-learn.org. See: https://github.com/scikit-learn/scikit-learn/issues/21755 */display: inline-block !important;position: relative;}#sk-container-id-3 div.sk-text-repr-fallback {display: none;}</style><div id=\"sk-container-id-3\" class=\"sk-top-container\"><div class=\"sk-text-repr-fallback\"><pre>DecisionTreeRegressor(max_depth=5, min_samples_leaf=7, random_state=0)</pre><b>In a Jupyter environment, please rerun this cell to show the HTML representation or trust the notebook. <br />On GitHub, the HTML representation is unable to render, please try loading this page with nbviewer.org.</b></div><div class=\"sk-container\" hidden><div class=\"sk-item\"><div class=\"sk-estimator sk-toggleable\"><input class=\"sk-toggleable__control sk-hidden--visually\" id=\"sk-estimator-id-3\" type=\"checkbox\" checked><label for=\"sk-estimator-id-3\" class=\"sk-toggleable__label sk-toggleable__label-arrow\">DecisionTreeRegressor</label><div class=\"sk-toggleable__content\"><pre>DecisionTreeRegressor(max_depth=5, min_samples_leaf=7, random_state=0)</pre></div></div></div></div></div>"
     },
     "execution_count": 40,
     "metadata": {},
     "output_type": "execute_result"
    }
   ],
   "source": [
    "# import the regressor\n",
    "from sklearn.tree import DecisionTreeRegressor\n",
    "# create a regressor object\n",
    "regressor = DecisionTreeRegressor(random_state = 0,max_depth=5,min_samples_leaf=7,min_samples_split=2)\n",
    "# fit the regressor with X and Y data\n",
    "regressor.fit(X_train_Tree, y_train_tree)"
   ],
   "id": "ed9c317d3b861303"
  },
  {
   "cell_type": "code",
   "execution_count": 41,
   "metadata": {
    "collapsed": false,
    "ExecuteTime": {
     "end_time": "2024-06-09T11:33:11.774917Z",
     "start_time": "2024-06-09T11:33:11.768529Z"
    }
   },
   "outputs": [
    {
     "data": {
      "text/plain": "array([72.44166667, 21.75      , 66.17777778, 71.575     , 80.3       ,\n       75.73333333, 65.67692308, 31.58571429, 82.65555556, 82.68888889,\n       54.88421053, 61.50555556, 82.65555556, 75.73333333, 82.68888889,\n       61.50555556, 47.5125    , 21.75      , 61.50555556, 83.84285714,\n       40.58888889, 31.58571429, 66.17777778, 33.83      , 65.67692308,\n       65.67692308, 21.75      , 71.575     , 52.00909091, 33.83      ,\n       61.50555556, 88.7       , 88.7       , 80.3       , 66.17777778,\n       33.83      , 74.7       , 77.625     , 82.65555556, 75.73333333,\n       66.17777778, 47.5125    , 61.50555556, 61.50555556, 54.88421053,\n       52.00909091, 40.58888889, 71.575     , 75.73333333, 33.83      ,\n       72.44166667, 33.83      , 33.83      , 61.50555556, 74.7       ,\n       61.50555556, 54.88421053])"
     },
     "execution_count": 41,
     "metadata": {},
     "output_type": "execute_result"
    }
   ],
   "source": [
    "y_pred_tree=regressor.predict(X_test_tree)\n",
    "y_pred_tree"
   ],
   "id": "bb42e00da38f8902"
  },
  {
   "cell_type": "code",
   "execution_count": 42,
   "metadata": {
    "collapsed": false,
    "ExecuteTime": {
     "end_time": "2024-06-09T11:33:13.571626Z",
     "start_time": "2024-06-09T11:33:13.552968Z"
    }
   },
   "outputs": [
    {
     "name": "stdout",
     "output_type": "stream",
     "text": [
      "Model: DecisionTreeRegressor(max_depth=5, min_samples_leaf=7, random_state=0)\n",
      "Root Mean Squared Error (RMSE) 10.711323640686151\n",
      "Mean Squared Error (MSE): 114.73245413552205\n",
      "R-squared (R2): 0.6319968793011491\n",
      "Adjusted-R-squared 0.5615281966141351\n"
     ]
    }
   ],
   "source": [
    "evaluate_model_reg(regressor,y_test_tree, y_pred_tree)\n"
   ],
   "id": "5f93b0018027c60e"
  },
  {
   "cell_type": "markdown",
   "metadata": {
    "collapsed": false
   },
   "source": [
    "## KNN Regressor"
   ],
   "id": "15a8a865d9bf650b"
  },
  {
   "cell_type": "markdown",
   "metadata": {
    "collapsed": false
   },
   "source": [
    "![alt text](images/knn.png \"K Nearset Neighbors\")"
   ],
   "id": "9c26f2e7d3896be6"
  },
  {
   "cell_type": "code",
   "execution_count": 43,
   "metadata": {
    "collapsed": false,
    "ExecuteTime": {
     "end_time": "2024-06-09T11:33:52.244308Z",
     "start_time": "2024-06-09T11:33:52.225220Z"
    }
   },
   "outputs": [],
   "source": [
    "from sklearn.neighbors import KNeighborsRegressor"
   ],
   "id": "7edabf717577e72c"
  },
  {
   "cell_type": "code",
   "execution_count": 44,
   "metadata": {
    "collapsed": false,
    "ExecuteTime": {
     "end_time": "2024-06-09T11:33:52.909778Z",
     "start_time": "2024-06-09T11:33:52.903064Z"
    }
   },
   "outputs": [],
   "source": [
    "X_train_knn,X_test_knn,y_train_knn,y_test_knn=splitDataset(X,y)"
   ],
   "id": "7f6d676e8d49c81"
  },
  {
   "cell_type": "code",
   "execution_count": 45,
   "metadata": {
    "collapsed": false,
    "ExecuteTime": {
     "end_time": "2024-06-09T11:33:53.774089Z",
     "start_time": "2024-06-09T11:33:53.768023Z"
    }
   },
   "outputs": [],
   "source": [
    "# Create a KNN regressor with k=5\n",
    "knn = KNeighborsRegressor(n_neighbors=5)\n",
    "\n",
    "# Fit the regressor to the training data\n",
    "knn.fit(X_train_knn, y_train_knn)\n",
    "# Predict the output values for the test data\n",
    "y_pred_knn = knn.predict(X_test_knn)"
   ],
   "id": "7f9c1c5c64b9ff9d"
  },
  {
   "cell_type": "code",
   "execution_count": 46,
   "metadata": {
    "collapsed": false,
    "ExecuteTime": {
     "end_time": "2024-06-09T11:33:54.822167Z",
     "start_time": "2024-06-09T11:33:54.804188Z"
    }
   },
   "outputs": [
    {
     "name": "stdout",
     "output_type": "stream",
     "text": [
      "Model: DecisionTreeRegressor(max_depth=5, min_samples_leaf=7, random_state=0)\n",
      "Root Mean Squared Error (RMSE) 11.311946797562177\n",
      "Mean Squared Error (MSE): 127.96014035087721\n",
      "R-squared (R2): 0.5895692171060567\n",
      "Adjusted-R-squared 0.5109760884667909\n"
     ]
    }
   ],
   "source": [
    "evaluate_model_reg(regressor,y_test_knn, y_pred_knn)\n"
   ],
   "id": "6a5ff0da6f06a6a1"
  },
  {
   "cell_type": "markdown",
   "metadata": {
    "collapsed": false
   },
   "source": [
    "## Grid search"
   ],
   "id": "153587d32cc73f42"
  },
  {
   "cell_type": "code",
   "execution_count": 47,
   "metadata": {
    "collapsed": false,
    "ExecuteTime": {
     "end_time": "2024-06-09T11:33:57.150191Z",
     "start_time": "2024-06-09T11:33:57.089777Z"
    }
   },
   "outputs": [
    {
     "name": "stdout",
     "output_type": "stream",
     "text": [
      "Best hyperparameters: {'n_neighbors': 7}\n"
     ]
    }
   ],
   "source": [
    "# Define the parameter grid for the grid search\n",
    "param_grid = {'n_neighbors': [1,3, 5, 7, 9,11,13]}\n",
    "\n",
    "# Create a KNN regressor\n",
    "knn = KNeighborsRegressor()\n",
    "\n",
    "# Perform the grid search using 5-fold cross-validation\n",
    "grid_search = GridSearchCV(knn, param_grid, cv=5, scoring='neg_mean_squared_error')\n",
    "\n",
    "# Fit the grid search to the data\n",
    "grid_search.fit(X_train_knn, y_train_knn)\n",
    "\n",
    "print(\"Best hyperparameters:\", grid_search.best_params_)"
   ],
   "id": "6880bf68c2eaeba3"
  },
  {
   "cell_type": "code",
   "execution_count": 48,
   "metadata": {
    "collapsed": false,
    "ExecuteTime": {
     "end_time": "2024-06-09T11:33:58.390110Z",
     "start_time": "2024-06-09T11:33:58.373178Z"
    }
   },
   "outputs": [],
   "source": [
    "# Create a KNN regressor with k=5\n",
    "knn = KNeighborsRegressor(n_neighbors=5)\n",
    "\n",
    "# Fit the regressor to the training data\n",
    "knn.fit(X_train_knn, y_train_knn)\n",
    "# Predict the output values for the test data\n",
    "y_pred_knn = knn.predict(X_test_knn)"
   ],
   "id": "11fcf8d0978aa1da"
  },
  {
   "cell_type": "code",
   "execution_count": 49,
   "metadata": {
    "collapsed": false,
    "ExecuteTime": {
     "end_time": "2024-06-09T11:33:59.645113Z",
     "start_time": "2024-06-09T11:33:59.622072Z"
    }
   },
   "outputs": [
    {
     "name": "stdout",
     "output_type": "stream",
     "text": [
      "Model: DecisionTreeRegressor(max_depth=5, min_samples_leaf=7, random_state=0)\n",
      "Root Mean Squared Error (RMSE) 11.311946797562177\n",
      "Mean Squared Error (MSE): 127.96014035087721\n",
      "R-squared (R2): 0.5895692171060567\n",
      "Adjusted-R-squared 0.5109760884667909\n"
     ]
    }
   ],
   "source": [
    "evaluate_model_reg(regressor,y_test_knn, y_pred_knn)"
   ],
   "id": "f9eda5d718a2ea66"
  },
  {
   "cell_type": "markdown",
   "metadata": {
    "collapsed": false
   },
   "source": [
    "### With feature selectiopn"
   ],
   "id": "de268cfa7bb59db4"
  },
  {
   "cell_type": "code",
   "execution_count": 50,
   "metadata": {
    "collapsed": false,
    "ExecuteTime": {
     "end_time": "2024-06-09T11:34:03.266329Z",
     "start_time": "2024-06-09T11:34:03.249669Z"
    }
   },
   "outputs": [],
   "source": [
    "X_train_knn,X_test_knn,y_train_knn,y_test_knn=splitDataset(x_with_feature_selection,y)"
   ],
   "id": "8ef3cfd2eb1bbdb9"
  },
  {
   "cell_type": "markdown",
   "metadata": {
    "collapsed": false
   },
   "source": [
    "### Grid Search"
   ],
   "id": "37352eaa688f41a1"
  },
  {
   "cell_type": "code",
   "execution_count": 51,
   "metadata": {
    "collapsed": false,
    "ExecuteTime": {
     "end_time": "2024-06-09T11:34:05.330350Z",
     "start_time": "2024-06-09T11:34:05.270180Z"
    }
   },
   "outputs": [
    {
     "name": "stdout",
     "output_type": "stream",
     "text": [
      "Best hyperparameters: {'n_neighbors': 5}\n"
     ]
    }
   ],
   "source": [
    "# Define the parameter grid for the grid search\n",
    "param_grid = {'n_neighbors': [1,3, 5, 7, 9,11,13]}\n",
    "\n",
    "# Create a KNN regressor\n",
    "knn = KNeighborsRegressor()\n",
    "\n",
    "# Perform the grid search using 5-fold cross-validation\n",
    "grid_search = GridSearchCV(knn, param_grid, cv=5, scoring='neg_mean_squared_error')\n",
    "\n",
    "# Fit the grid search to the data\n",
    "grid_search.fit(X_train_knn, y_train_knn)\n",
    "\n",
    "print(\"Best hyperparameters:\", grid_search.best_params_)"
   ],
   "id": "260fa73d630cc601"
  },
  {
   "cell_type": "code",
   "execution_count": 52,
   "metadata": {
    "collapsed": false,
    "ExecuteTime": {
     "end_time": "2024-06-09T11:34:06.361415Z",
     "start_time": "2024-06-09T11:34:06.336774Z"
    }
   },
   "outputs": [],
   "source": [
    "# Create a KNN regressor with k=5\n",
    "knn = KNeighborsRegressor(n_neighbors=5)\n",
    "\n",
    "# Fit the regressor to the training data\n",
    "knn.fit(X_train_knn, y_train_knn)\n",
    "# Predict the output values for the test data\n",
    "y_pred_knn = knn.predict(X_test_knn)"
   ],
   "id": "deacaeff7a935f2e"
  },
  {
   "cell_type": "code",
   "execution_count": 53,
   "metadata": {
    "collapsed": false,
    "ExecuteTime": {
     "end_time": "2024-06-09T11:34:07.924818Z",
     "start_time": "2024-06-09T11:34:07.902145Z"
    }
   },
   "outputs": [
    {
     "name": "stdout",
     "output_type": "stream",
     "text": [
      "Model: DecisionTreeRegressor(max_depth=5, min_samples_leaf=7, random_state=0)\n",
      "Root Mean Squared Error (RMSE) 10.94348672747338\n",
      "Mean Squared Error (MSE): 119.75990175438601\n",
      "R-squared (R2): 0.6158713947829972\n",
      "Adjusted-R-squared 0.5423148533584647\n"
     ]
    }
   ],
   "source": [
    "evaluate_model_reg(regressor,y_test_knn, y_pred_knn)"
   ],
   "id": "58300861b72ca17e"
  },
  {
   "cell_type": "code",
   "outputs": [],
   "source": [],
   "metadata": {
    "collapsed": false
   },
   "id": "43b263f869c01427"
  }
 ],
 "metadata": {
  "kernelspec": {
   "display_name": "Python 3 (ipykernel)",
   "language": "python",
   "name": "python3"
  },
  "language_info": {
   "codemirror_mode": {
    "name": "ipython",
    "version": 3
   },
   "file_extension": ".py",
   "mimetype": "text/x-python",
   "name": "python",
   "nbconvert_exporter": "python",
   "pygments_lexer": "ipython3",
   "version": "3.10.9"
  }
 },
 "nbformat": 4,
 "nbformat_minor": 5
}
